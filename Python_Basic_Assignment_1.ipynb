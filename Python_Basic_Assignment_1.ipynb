{
 "cells": [
  {
   "cell_type": "code",
   "execution_count": null,
   "id": "33d2b4e3",
   "metadata": {},
   "outputs": [],
   "source": [
    "'''1.In the below elements which of them are values or an expression? eg:- values can be\n",
    "integer or string and expressions will be mathematical operators.\n",
    "ANS:\n",
    "\n",
    "* => Expression\n",
    "'hello' => value\n",
    "-87.8 => value\n",
    "- => expression\n",
    "/ => expression\n",
    "+ => expression \n",
    "6 => value\n",
    "'''"
   ]
  },
  {
   "cell_type": "code",
   "execution_count": null,
   "id": "9d51b927",
   "metadata": {},
   "outputs": [],
   "source": [
    "'''2)What is the difference between string and variable?\n",
    "->A string is like a text \n",
    "example: \"hello\"\n",
    "->A variable is like something storing the data or information\n",
    "'''"
   ]
  },
  {
   "cell_type": "code",
   "execution_count": null,
   "id": "10eb1d15",
   "metadata": {},
   "outputs": [],
   "source": [
    "'''3)Describe three different data types?\n",
    "->int - used to represent integers\n",
    "example: 9,7\n",
    "->float - represent numbers like decimals\n",
    "example:24.5,32.1\n",
    "->char - to represent characters \n",
    "example: 'A','B'\n",
    "'''"
   ]
  },
  {
   "cell_type": "code",
   "execution_count": null,
   "id": "05f1a24e",
   "metadata": {},
   "outputs": [],
   "source": [
    "'''4)What is an expression made up of? What do all expressions do?\n",
    "->An expression is a combination of values, variables, operators.\n",
    "->Expressions need to be evaluated. If you ask Python to print an expression, the interpreter evaluates the expression and displays the result.'''"
   ]
  },
  {
   "cell_type": "code",
   "execution_count": null,
   "id": "79df2fc7",
   "metadata": {},
   "outputs": [],
   "source": [
    "'''5)This assignment statements, like spam = 10. What is the difference between an\n",
    "expression and a statement?\n",
    "Answer:expression is used to evaluate the two or more variables and store the final result.But statement is we are directly assign the value\n"
   ]
  },
  {
   "cell_type": "code",
   "execution_count": 10,
   "id": "2a140939",
   "metadata": {},
   "outputs": [
    {
     "data": {
      "text/plain": [
       "23"
      ]
     },
     "execution_count": 10,
     "metadata": {},
     "output_type": "execute_result"
    }
   ],
   "source": [
    "'''6)After running the following code, what does the variable bacon contain?\n",
    "    bacon = 22\n",
    "    bacon+1\n",
    "'''\n",
    "#answer:23\n",
    "bacon=22\n",
    "bacon+1"
   ]
  },
  {
   "cell_type": "code",
   "execution_count": null,
   "id": "2c09be67",
   "metadata": {},
   "outputs": [],
   "source": [
    "'''7)What should the values of the following two terms be?\n",
    "    'spam'+'spamspam'\n",
    "    'spam'*3\n",
    "'''\n",
    "#answer:\n",
    "#'spam'+'spamspam' => 'spamspamspam'\n",
    "#'spam'*3 =>'spamspamspam'\n"
   ]
  },
  {
   "cell_type": "code",
   "execution_count": 3,
   "id": "2bd57b0c",
   "metadata": {},
   "outputs": [
    {
     "data": {
      "text/plain": [
       "'spamspamspam'"
      ]
     },
     "execution_count": 3,
     "metadata": {},
     "output_type": "execute_result"
    }
   ],
   "source": [
    "'spam'+'spamspam'"
   ]
  },
  {
   "cell_type": "code",
   "execution_count": null,
   "id": "4b482980",
   "metadata": {},
   "outputs": [],
   "source": [
    "'''8)Why is eggs a valid variable name while 100 is invalid?'''\n",
    "#Answer:\n",
    "#because eggs is a variable and it can able to store data so it is valid.But 100 is a integer it cannot store data so it is invalid"
   ]
  },
  {
   "cell_type": "code",
   "execution_count": null,
   "id": "e6855e73",
   "metadata": {},
   "outputs": [],
   "source": [
    "'''9)What three functions can be used to get the integer, floating-point number, or string\n",
    "version of a value?'''\n",
    "#Answer:The int(),float(),and str( ) functions will evaluate to the integer, floating-point number, and string versions of the value passed to them."
   ]
  },
  {
   "cell_type": "code",
   "execution_count": null,
   "id": "039b3525",
   "metadata": {},
   "outputs": [],
   "source": [
    "'''10)'I have eaten'+ 99 + 'burritos' '''\n",
    "#Answer: here we are trying to add string and integer together so it causes an error , To solve this we need to make 99 as '99' then the error will solve"
   ]
  }
 ],
 "metadata": {
  "kernelspec": {
   "display_name": "Python 3",
   "language": "python",
   "name": "python3"
  },
  "language_info": {
   "codemirror_mode": {
    "name": "ipython",
    "version": 3
   },
   "file_extension": ".py",
   "mimetype": "text/x-python",
   "name": "python",
   "nbconvert_exporter": "python",
   "pygments_lexer": "ipython3",
   "version": "3.8.8"
  }
 },
 "nbformat": 4,
 "nbformat_minor": 5
}
