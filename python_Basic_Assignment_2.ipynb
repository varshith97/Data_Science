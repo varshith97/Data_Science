{
 "cells": [
  {
   "cell_type": "markdown",
   "id": "39bbe32e",
   "metadata": {},
   "source": [
    "1)What are the two values of the Boolean data type? How do you write them?\n",
    "Answer:\n",
    "the two values of the boolean data type are true,false\n",
    "in python o is considered as false and 1 is considered as true"
   ]
  },
  {
   "cell_type": "markdown",
   "id": "f4b64b8c",
   "metadata": {},
   "source": [
    "2)What are the three different types of Boolean operators?\n",
    "Answer:\n",
    "boolean operators are: AND, OR, and NOT."
   ]
  },
  {
   "cell_type": "markdown",
   "id": "0bbd7785",
   "metadata": {},
   "source": [
    "3)Make a list of each Boolean operator's truth tables (i.e. every possible combination of Boolean\n",
    "values for the operator and what it evaluate ).\n",
    "Answer:\n",
    "\n",
    "AND:\n",
    "True and True -------> True\n",
    "True and False -------> False\n",
    "False and True -------> False\n",
    "False and False --------> False\n",
    "\n",
    "OR:\n",
    "True or True -------> True\n",
    "True or False -------> True\n",
    "False or True -------> True\n",
    "False or False --------> False\n",
    "\n",
    "NOT:\n",
    "not(True) --------> False\n",
    "not(False) --------> True\n",
    "\n"
   ]
  },
  {
   "cell_type": "markdown",
   "id": "bfd91b37",
   "metadata": {},
   "source": [
    "4)What are the values of the following expressions?\n",
    "a.(5 > 4) and (3 == 5)\n",
    "b. not (5 > 4)\n",
    "c.(5 > 4) or (3 == 5)\n",
    "d. not ((5 > 4) or (3 == 5))\n",
    "e.(True and True) and (True == False)\n",
    "f. (not False) or (not True)\n",
    "\n",
    "Answer:\n",
    "a => False\n",
    "b => False\n",
    "c => True\n",
    "d => False\n",
    "e => False\n",
    "f => True"
   ]
  },
  {
   "cell_type": "markdown",
   "id": "0ed7a4ef",
   "metadata": {},
   "source": [
    "5)What are the six comparison operators?\n",
    "Answer:\n",
    "== , != , < , <= , >= , >"
   ]
  },
  {
   "cell_type": "markdown",
   "id": "5838e6e4",
   "metadata": {},
   "source": [
    "6)How do you tell the difference between the equal to and assignment operators?Describe a condition and when you would use one.\n",
    "Answer:\n",
    "\n",
    "Actually equal(==) operator checks whether both the left and right side values of the operator are having same value. where as assignment(=) operator  assigns the right side value of the operator to the left side value.\n",
    "\n",
    "EX: a,b=20,30 (Assignment) => a will be 20 and b will be 30.     \n",
    "    a == b (equal) => False as both a and b are not equal    "
   ]
  },
  {
   "cell_type": "markdown",
   "id": "dde9bef8",
   "metadata": {},
   "source": [
    "7)Identify the three blocks in this code: spam = 0\n",
    "if spam == 10:\n",
    "print('eggs')\n",
    "if spam > 5:\n",
    "print('bacon')\n",
    "else:\n",
    "print('ham')\n",
    "print('spam')\n",
    "print('spam')\n",
    "\n",
    "Answer:\n",
    "\n",
    "BLOCK 1\n",
    "spam = 0\n",
    "if spam == 10:\n",
    " print('eggs')\n",
    "\n",
    "BLOCK 2\n",
    "if spam > 5:\n",
    " print('bacon')\n",
    "\n",
    "BLOCK 3\n",
    "else:\n",
    " print('ham')\n",
    " print('spam')\n",
    " print('spam')\n"
   ]
  },
  {
   "cell_type": "markdown",
   "id": "6666b4fd",
   "metadata": {},
   "source": [
    "8)Write code that prints Hello if 1 is stored in spam, prints Howdy if 2 is stored in spam, and prints Greetings! if anything else is stored in spam.\n",
    "Answer:"
   ]
  },
  {
   "cell_type": "code",
   "execution_count": 15,
   "id": "1b689f7d",
   "metadata": {},
   "outputs": [
    {
     "name": "stdout",
     "output_type": "stream",
     "text": [
      "Enter a number9\n",
      "Greetings\n"
     ]
    }
   ],
   "source": [
    "spam = int(input(\"Enter a number\"))\n",
    "if spam == 1:\n",
    " print(\"Hello\")\n",
    "elif spam == 2:\n",
    " print(\"Howdy\")\n",
    "else:\n",
    " print(\"Greetings\")"
   ]
  },
  {
   "cell_type": "markdown",
   "id": "bf3a81f2",
   "metadata": {},
   "source": [
    "9)If your programme is stuck in an endless loop, what keys you’ll press?\n",
    "Answer:\n",
    "Ctrl+c"
   ]
  },
  {
   "cell_type": "markdown",
   "id": "2432256d",
   "metadata": {},
   "source": [
    "10)How can you tell the difference between break and continue?\n",
    "Answer:\n",
    "break is used for immediate termination of the loop.  continue will terminate the current iteraion and resumes the next iteration of the loop."
   ]
  },
  {
   "cell_type": "code",
   "execution_count": 8,
   "id": "0e52a103",
   "metadata": {},
   "outputs": [
    {
     "name": "stdout",
     "output_type": "stream",
     "text": [
      "0\n",
      "1\n",
      "2\n"
     ]
    }
   ],
   "source": [
    "a =6\n",
    "for i in range(a):\n",
    "    if(i==3):\n",
    "        break\n",
    "    print(i)"
   ]
  },
  {
   "cell_type": "code",
   "execution_count": 9,
   "id": "f20b9013",
   "metadata": {},
   "outputs": [
    {
     "name": "stdout",
     "output_type": "stream",
     "text": [
      "0\n",
      "1\n",
      "2\n",
      "4\n",
      "5\n"
     ]
    }
   ],
   "source": [
    "a =6\n",
    "for i in range(a):\n",
    "    if(i==3):\n",
    "        continue\n",
    "    print(i)"
   ]
  },
  {
   "cell_type": "markdown",
   "id": "900537fc",
   "metadata": {},
   "source": [
    "11)In a for loop, what is the difference between range(10), range(0, 10), and range(0, 10, 1)?\n",
    "Answer:\n",
    "range(10), range(0, 10), and range(0, 10, 1) => In all 3 cases iteration starts from 0 and the for loop execution will be terminated when reaches 10. Range values are 0 to 9.\n",
    "range(10) => start range by default will be 0 and end at mentioned in range.\n",
    "range(0,10) ---> both start(0) and end(10) range will be mentioned. range(0,10,1) --> both start(0) and end(10) range will be mentioned and incrementing value(1) will be mentioned here."
   ]
  },
  {
   "cell_type": "markdown",
   "id": "4737750d",
   "metadata": {},
   "source": [
    "12)Write a short program that prints the numbers 1 to 10 using a for loop. Then write an equivalent program that prints the numbers 1 to 10 using a while loop?\n",
    "Answer:"
   ]
  },
  {
   "cell_type": "code",
   "execution_count": 12,
   "id": "a97cd196",
   "metadata": {},
   "outputs": [
    {
     "name": "stdout",
     "output_type": "stream",
     "text": [
      "1 2 3 4 5 6 7 8 9 10 "
     ]
    }
   ],
   "source": [
    "for i in range(10):\n",
    "    print(i+1,end=\" \")"
   ]
  },
  {
   "cell_type": "code",
   "execution_count": 14,
   "id": "07b40856",
   "metadata": {},
   "outputs": [
    {
     "name": "stdout",
     "output_type": "stream",
     "text": [
      "1 2 3 4 5 6 7 8 9 10 "
     ]
    }
   ],
   "source": [
    "n=1\n",
    "while(n!=11):\n",
    "    print(n,end=\" \")\n",
    "    n+=1"
   ]
  },
  {
   "cell_type": "markdown",
   "id": "b25c3871",
   "metadata": {},
   "source": [
    "13)If you had a function named bacon() inside a module named spam, how would you call it after importing spam?\n",
    "Answer:\n",
    "\n",
    "import spam\n",
    "spam.bacon()"
   ]
  }
 ],
 "metadata": {
  "kernelspec": {
   "display_name": "Python 3",
   "language": "python",
   "name": "python3"
  },
  "language_info": {
   "codemirror_mode": {
    "name": "ipython",
    "version": 3
   },
   "file_extension": ".py",
   "mimetype": "text/x-python",
   "name": "python",
   "nbconvert_exporter": "python",
   "pygments_lexer": "ipython3",
   "version": "3.8.8"
  }
 },
 "nbformat": 4,
 "nbformat_minor": 5
}
